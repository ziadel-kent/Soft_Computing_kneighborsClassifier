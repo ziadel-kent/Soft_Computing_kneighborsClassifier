{
 "cells": [
  {
   "cell_type": "code",
   "execution_count": 1,
   "metadata": {
    "id": "CmvvFKNURPGv"
   },
   "outputs": [],
   "source": [
    "import pandas as pd\n",
    "import numpy as np\n",
    "import seaborn as sns\n",
    "import matplotlib.pyplot as plt\n",
    " # Importing dependencies\n",
    "import numpy as np\n",
    "import pandas as pd\n",
    "import matplotlib.pyplot as plt\n",
    "from sklearn.model_selection import train_test_split\n",
    "from sklearn.preprocessing import MinMaxScaler\n",
    "from sklearn.metrics import mean_squared_error, classification_report, confusion_matrix, ConfusionMatrixDisplay\n",
    "from scipy import stats\n",
    "from sklearn.feature_selection import mutual_info_classif\n",
    "from sklearn.metrics import accuracy_score\n",
    "SEED=30\n",
    "\n",
    "# Load the dataset\n",
    "data = pd.read_csv('D:/JN/TUANDROMD.csv')\n",
    "\n",
    "# Define class labels\n",
    "classes = {0: 'malware', 1: 'good ware'}\n"
   ]
  },
  {
   "cell_type": "code",
   "execution_count": 2,
   "metadata": {
    "id": "e3Vo2rTJL5tV"
   },
   "outputs": [],
   "source": [
    "from sklearn.utils import resample\n",
    "\n",
    "# Separate classes\n",
    "malware = data[data['Label'] == 0]\n",
    "goodware = data[data['Label'] == 1]\n",
    "\n",
    "# Downsample goodware\n",
    "goodware_downsampled = resample(goodware,\n",
    "                                replace=False,    # without replacement\n",
    "                                n_samples=len(malware),  # match minority\n",
    "                                random_state=SEED)\n",
    "\n",
    "# Combine\n",
    "data_balanced = pd.concat([malware, goodware_downsampled])\n"
   ]
  },
  {
   "cell_type": "code",
   "execution_count": 3,
   "metadata": {
    "id": "ZxccdXVBL6Xg"
   },
   "outputs": [],
   "source": [
    "malware_upsampled = resample(malware,\n",
    "                             replace=True,     # with replacement\n",
    "                             n_samples=len(goodware),  # match majority\n",
    "                             random_state=SEED)\n",
    "\n",
    "data_balanced = pd.concat([malware_upsampled, goodware])\n"
   ]
  },
  {
   "cell_type": "code",
   "execution_count": 4,
   "metadata": {
    "colab": {
     "base_uri": "https://localhost:8080/",
     "height": 458
    },
    "id": "DRQ_SrrKMSoV",
    "outputId": "f51f2887-f0de-4722-a27a-0a0d4ff7d08d"
   },
   "outputs": [
    {
     "data": {
      "text/plain": [
       "ACCESS_ALL_DOWNLOADS                                        1\n",
       "ACCESS_CACHE_FILESYSTEM                                     1\n",
       "ACCESS_CHECKIN_PROPERTIES                                   1\n",
       "ACCESS_COARSE_LOCATION                                      1\n",
       "ACCESS_COARSE_UPDATES                                       1\n",
       "                                                           ..\n",
       "Landroid/telephony/TelephonyManager;->getSimOperatorName    1\n",
       "Landroid/telephony/TelephonyManager;->getSimCountryIso      1\n",
       "Landroid/telephony/TelephonyManager;->getSimSerialNumber    1\n",
       "Lorg/apache/http/impl/client/DefaultHttpClient;->execute    1\n",
       "Label                                                       1\n",
       "Length: 242, dtype: int64"
      ]
     },
     "execution_count": 4,
     "metadata": {},
     "output_type": "execute_result"
    }
   ],
   "source": [
    "data.isnull().sum()[data.isnull().sum() > 0]"
   ]
  },
  {
   "cell_type": "code",
   "execution_count": 5,
   "metadata": {
    "id": "3IxTswlEMVg9"
   },
   "outputs": [],
   "source": [
    "# Separate features and target variable\n",
    "X = data.drop('Label', axis=1)\n",
    "y = data['Label']"
   ]
  },
  {
   "cell_type": "code",
   "execution_count": 6,
   "metadata": {
    "colab": {
     "base_uri": "https://localhost:8080/"
    },
    "id": "99u44T7zMTN8",
    "outputId": "1b023381-197a-4769-a33b-d52eff4be77e"
   },
   "outputs": [
    {
     "name": "stderr",
     "output_type": "stream",
     "text": [
      "C:\\Users\\Elnour Tech\\AppData\\Local\\Programs\\Python\\Python312\\Lib\\site-packages\\scipy\\stats\\_stats_py.py:5657: ConstantInputWarning: An input array is constant; the correlation coefficient is not defined.\n",
      "  rpb, prob = pearsonr(x, y)\n"
     ]
    }
   ],
   "source": [
    "# Separate features and target variable\n",
    "X = data.drop('Label', axis=1)\n",
    "y = data['Label']\n",
    "\n",
    "# Remove rows with NaN values in the target variable\n",
    "X = X[~y.isnull()]  # Keep rows in X where y is not null\n",
    "y = y[~y.isnull()]  # Keep rows in y where y is not null\n",
    "\n",
    "# Calculate feature importance using Mutual Information and Point-Biserial correlation\n",
    "point_biserial_coefs = []\n",
    "for i in range(X.shape[1]):\n",
    "    coef = stats.pointbiserialr(X.iloc[:, i], y)[0]\n",
    "    point_biserial_coefs.append(coef)\n",
    "\n",
    "mutual_inf = mutual_info_classif(X, y)"
   ]
  },
  {
   "cell_type": "code",
   "execution_count": 7,
   "metadata": {
    "id": "Q3v4HpvYMYdN"
   },
   "outputs": [],
   "source": [
    "# Create a DataFrame to store feature importance\n",
    "feature_importance = pd.DataFrame({'Mutual Inf': mutual_inf, 'Point-BiSerial': point_biserial_coefs}, index=X.columns)"
   ]
  },
  {
   "cell_type": "code",
   "execution_count": 8,
   "metadata": {
    "colab": {
     "base_uri": "https://localhost:8080/"
    },
    "id": "l1FQB9JzMZGF",
    "outputId": "70495ebb-c392-4e3a-cc4a-a0c484f85851"
   },
   "outputs": [
    {
     "name": "stdout",
     "output_type": "stream",
     "text": [
      "                           Mutual Inf  Point-BiSerial\n",
      "RECEIVE_BOOT_COMPLETED       0.237542        0.760417\n",
      "GET_TASKS                    0.163088        0.563214\n",
      "WAKE_LOCK                    0.090493        0.472105\n",
      "KILL_BACKGROUND_PROCESSES    0.107759        0.438312\n",
      "SYSTEM_ALERT_WINDOW          0.047618        0.281178\n",
      "...                               ...             ...\n",
      "SEND                         0.000000             NaN\n",
      "WRITE                        0.006117             NaN\n",
      "WRITE_AVSETTING              0.002477             NaN\n",
      "WRITE_DATA                   0.000000             NaN\n",
      "WRITE_DATABASES              0.000000             NaN\n",
      "\n",
      "[241 rows x 2 columns]\n"
     ]
    }
   ],
   "source": [
    "# Sort feature importance based on 'Point-BiSerial' column in descending order\n",
    "sorted_feature_importance = feature_importance.sort_values(by='Point-BiSerial', ascending=False)\n",
    "\n",
    "print(sorted_feature_importance)"
   ]
  },
  {
   "cell_type": "code",
   "execution_count": 9,
   "metadata": {
    "colab": {
     "base_uri": "https://localhost:8080/",
     "height": 423
    },
    "id": "6pwlw_gfL8HZ",
    "outputId": "ab2f73b1-230d-48e3-91a4-3eda94b0f7e4"
   },
   "outputs": [
    {
     "data": {
      "text/html": [
       "<div>\n",
       "<style scoped>\n",
       "    .dataframe tbody tr th:only-of-type {\n",
       "        vertical-align: middle;\n",
       "    }\n",
       "\n",
       "    .dataframe tbody tr th {\n",
       "        vertical-align: top;\n",
       "    }\n",
       "\n",
       "    .dataframe thead th {\n",
       "        text-align: right;\n",
       "    }\n",
       "</style>\n",
       "<table border=\"1\" class=\"dataframe\">\n",
       "  <thead>\n",
       "    <tr style=\"text-align: right;\">\n",
       "      <th></th>\n",
       "      <th>Mutual Inf</th>\n",
       "      <th>Point-BiSerial</th>\n",
       "    </tr>\n",
       "  </thead>\n",
       "  <tbody>\n",
       "    <tr>\n",
       "      <th>RECEIVE_BOOT_COMPLETED</th>\n",
       "      <td>0.237542</td>\n",
       "      <td>0.760417</td>\n",
       "    </tr>\n",
       "    <tr>\n",
       "      <th>Ljava/net/URL;-&gt;openConnection</th>\n",
       "      <td>0.212453</td>\n",
       "      <td>-0.712211</td>\n",
       "    </tr>\n",
       "    <tr>\n",
       "      <th>Landroid/location/LocationManager;-&gt;getLastK0wnLocation</th>\n",
       "      <td>0.174867</td>\n",
       "      <td>-0.653875</td>\n",
       "    </tr>\n",
       "    <tr>\n",
       "      <th>GET_TASKS</th>\n",
       "      <td>0.163088</td>\n",
       "      <td>0.563214</td>\n",
       "    </tr>\n",
       "    <tr>\n",
       "      <th>KILL_BACKGROUND_PROCESSES</th>\n",
       "      <td>0.107759</td>\n",
       "      <td>0.438312</td>\n",
       "    </tr>\n",
       "    <tr>\n",
       "      <th>...</th>\n",
       "      <td>...</td>\n",
       "      <td>...</td>\n",
       "    </tr>\n",
       "    <tr>\n",
       "      <th>MOUNT_UNMOUNT_FILESYSTEMS</th>\n",
       "      <td>0.000000</td>\n",
       "      <td>-0.024456</td>\n",
       "    </tr>\n",
       "    <tr>\n",
       "      <th>NFC</th>\n",
       "      <td>0.000000</td>\n",
       "      <td>-0.017844</td>\n",
       "    </tr>\n",
       "    <tr>\n",
       "      <th>PERSISTENT_ACTIVITY</th>\n",
       "      <td>0.000000</td>\n",
       "      <td>0.049594</td>\n",
       "    </tr>\n",
       "    <tr>\n",
       "      <th>PERMISSION</th>\n",
       "      <td>0.000000</td>\n",
       "      <td>NaN</td>\n",
       "    </tr>\n",
       "    <tr>\n",
       "      <th>Lorg/apache/http/impl/client/DefaultHttpClient;-&gt;execute</th>\n",
       "      <td>0.000000</td>\n",
       "      <td>-0.001673</td>\n",
       "    </tr>\n",
       "  </tbody>\n",
       "</table>\n",
       "<p>241 rows × 2 columns</p>\n",
       "</div>"
      ],
      "text/plain": [
       "                                                    Mutual Inf  Point-BiSerial\n",
       "RECEIVE_BOOT_COMPLETED                                0.237542        0.760417\n",
       "Ljava/net/URL;->openConnection                        0.212453       -0.712211\n",
       "Landroid/location/LocationManager;->getLastK0wn...    0.174867       -0.653875\n",
       "GET_TASKS                                             0.163088        0.563214\n",
       "KILL_BACKGROUND_PROCESSES                             0.107759        0.438312\n",
       "...                                                        ...             ...\n",
       "MOUNT_UNMOUNT_FILESYSTEMS                             0.000000       -0.024456\n",
       "NFC                                                   0.000000       -0.017844\n",
       "PERSISTENT_ACTIVITY                                   0.000000        0.049594\n",
       "PERMISSION                                            0.000000             NaN\n",
       "Lorg/apache/http/impl/client/DefaultHttpClient;...    0.000000       -0.001673\n",
       "\n",
       "[241 rows x 2 columns]"
      ]
     },
     "execution_count": 9,
     "metadata": {},
     "output_type": "execute_result"
    }
   ],
   "source": [
    "feature_importance.sort_values(by = 'Mutual Inf', ascending = False)\n"
   ]
  },
  {
   "cell_type": "code",
   "execution_count": 10,
   "metadata": {
    "id": "I7ixveb5MjEg"
   },
   "outputs": [],
   "source": [
    "# drop highly correlated features\n",
    "X.drop(['RECEIVE_BOOT_COMPLETED', 'Landroid/location/LocationManager;->getLastK0wnLocation', 'Ljava/net/URL;->openConnection'], axis = 1, inplace = True)"
   ]
  },
  {
   "cell_type": "code",
   "execution_count": 11,
   "metadata": {
    "colab": {
     "base_uri": "https://localhost:8080/"
    },
    "id": "Bf8ghPBHRb4y",
    "outputId": "14062324-81e0-45ef-f3c5-67ffd60ea5d6"
   },
   "outputs": [
    {
     "name": "stdout",
     "output_type": "stream",
     "text": [
      "Index(['ACCESS_ALL_DOWNLOADS', 'ACCESS_CACHE_FILESYSTEM',\n",
      "       'ACCESS_CHECKIN_PROPERTIES', 'ACCESS_COARSE_LOCATION',\n",
      "       'ACCESS_COARSE_UPDATES', 'ACCESS_FINE_LOCATION',\n",
      "       'ACCESS_LOCATION_EXTRA_COMMANDS', 'ACCESS_MOCK_LOCATION',\n",
      "       'ACCESS_MTK_MMHW', 'ACCESS_NETWORK_STATE',\n",
      "       ...\n",
      "       'Landroid/content/pm/PackageManager;->getInstalledPackages',\n",
      "       'Landroid/telephony/TelephonyManager;->getLine1Number',\n",
      "       'Landroid/telephony/TelephonyManager;->getNetworkOperator',\n",
      "       'Landroid/telephony/TelephonyManager;->getNetworkOperatorName',\n",
      "       'Landroid/telephony/TelephonyManager;->getNetworkCountryIso',\n",
      "       'Landroid/telephony/TelephonyManager;->getSimOperator',\n",
      "       'Landroid/telephony/TelephonyManager;->getSimOperatorName',\n",
      "       'Landroid/telephony/TelephonyManager;->getSimCountryIso',\n",
      "       'Landroid/telephony/TelephonyManager;->getSimSerialNumber',\n",
      "       'Lorg/apache/http/impl/client/DefaultHttpClient;->execute'],\n",
      "      dtype='object', length=238)\n"
     ]
    }
   ],
   "source": [
    "print(X.columns)\n"
   ]
  },
  {
   "cell_type": "code",
   "execution_count": 12,
   "metadata": {
    "colab": {
     "base_uri": "https://localhost:8080/"
    },
    "id": "JNAVM31vRdrw",
    "outputId": "290d17b0-88de-4348-8efa-8b32462a7273"
   },
   "outputs": [
    {
     "name": "stdout",
     "output_type": "stream",
     "text": [
      "train samples -> (3348, 238)\n",
      "test samples -> (1116, 238)\n"
     ]
    }
   ],
   "source": [
    "SEED = 30\n",
    "X_train, X_test, y_train, y_test = train_test_split(X,y, test_size = 0.25, shuffle = True, random_state = SEED)\n",
    "\n",
    "print('train samples ->', X_train.shape)\n",
    "print('test samples ->', X_test.shape)"
   ]
  },
  {
   "cell_type": "code",
   "execution_count": 13,
   "metadata": {
    "id": "S_JerLO6Re6e"
   },
   "outputs": [],
   "source": [
    "# Scaling numerical data\n",
    "MM = MinMaxScaler()\n",
    "MM_fit = MM.fit(X_train)\n",
    "X_train = MM_fit.transform(X_train)\n",
    "X_test = MM_fit.transform(X_test)\n"
   ]
  },
  {
   "cell_type": "code",
   "execution_count": 14,
   "metadata": {
    "colab": {
     "base_uri": "https://localhost:8080/",
     "height": 80
    },
    "id": "4BhalWh0Stjy",
    "outputId": "85b03b68-7de7-4ebd-e86f-b5b7935d036b"
   },
   "outputs": [
    {
     "data": {
      "text/html": [
       "<style>#sk-container-id-1 {color: black;}#sk-container-id-1 pre{padding: 0;}#sk-container-id-1 div.sk-toggleable {background-color: white;}#sk-container-id-1 label.sk-toggleable__label {cursor: pointer;display: block;width: 100%;margin-bottom: 0;padding: 0.3em;box-sizing: border-box;text-align: center;}#sk-container-id-1 label.sk-toggleable__label-arrow:before {content: \"▸\";float: left;margin-right: 0.25em;color: #696969;}#sk-container-id-1 label.sk-toggleable__label-arrow:hover:before {color: black;}#sk-container-id-1 div.sk-estimator:hover label.sk-toggleable__label-arrow:before {color: black;}#sk-container-id-1 div.sk-toggleable__content {max-height: 0;max-width: 0;overflow: hidden;text-align: left;background-color: #f0f8ff;}#sk-container-id-1 div.sk-toggleable__content pre {margin: 0.2em;color: black;border-radius: 0.25em;background-color: #f0f8ff;}#sk-container-id-1 input.sk-toggleable__control:checked~div.sk-toggleable__content {max-height: 200px;max-width: 100%;overflow: auto;}#sk-container-id-1 input.sk-toggleable__control:checked~label.sk-toggleable__label-arrow:before {content: \"▾\";}#sk-container-id-1 div.sk-estimator input.sk-toggleable__control:checked~label.sk-toggleable__label {background-color: #d4ebff;}#sk-container-id-1 div.sk-label input.sk-toggleable__control:checked~label.sk-toggleable__label {background-color: #d4ebff;}#sk-container-id-1 input.sk-hidden--visually {border: 0;clip: rect(1px 1px 1px 1px);clip: rect(1px, 1px, 1px, 1px);height: 1px;margin: -1px;overflow: hidden;padding: 0;position: absolute;width: 1px;}#sk-container-id-1 div.sk-estimator {font-family: monospace;background-color: #f0f8ff;border: 1px dotted black;border-radius: 0.25em;box-sizing: border-box;margin-bottom: 0.5em;}#sk-container-id-1 div.sk-estimator:hover {background-color: #d4ebff;}#sk-container-id-1 div.sk-parallel-item::after {content: \"\";width: 100%;border-bottom: 1px solid gray;flex-grow: 1;}#sk-container-id-1 div.sk-label:hover label.sk-toggleable__label {background-color: #d4ebff;}#sk-container-id-1 div.sk-serial::before {content: \"\";position: absolute;border-left: 1px solid gray;box-sizing: border-box;top: 0;bottom: 0;left: 50%;z-index: 0;}#sk-container-id-1 div.sk-serial {display: flex;flex-direction: column;align-items: center;background-color: white;padding-right: 0.2em;padding-left: 0.2em;position: relative;}#sk-container-id-1 div.sk-item {position: relative;z-index: 1;}#sk-container-id-1 div.sk-parallel {display: flex;align-items: stretch;justify-content: center;background-color: white;position: relative;}#sk-container-id-1 div.sk-item::before, #sk-container-id-1 div.sk-parallel-item::before {content: \"\";position: absolute;border-left: 1px solid gray;box-sizing: border-box;top: 0;bottom: 0;left: 50%;z-index: -1;}#sk-container-id-1 div.sk-parallel-item {display: flex;flex-direction: column;z-index: 1;position: relative;background-color: white;}#sk-container-id-1 div.sk-parallel-item:first-child::after {align-self: flex-end;width: 50%;}#sk-container-id-1 div.sk-parallel-item:last-child::after {align-self: flex-start;width: 50%;}#sk-container-id-1 div.sk-parallel-item:only-child::after {width: 0;}#sk-container-id-1 div.sk-dashed-wrapped {border: 1px dashed gray;margin: 0 0.4em 0.5em 0.4em;box-sizing: border-box;padding-bottom: 0.4em;background-color: white;}#sk-container-id-1 div.sk-label label {font-family: monospace;font-weight: bold;display: inline-block;line-height: 1.2em;}#sk-container-id-1 div.sk-label-container {text-align: center;}#sk-container-id-1 div.sk-container {/* jupyter's `normalize.less` sets `[hidden] { display: none; }` but bootstrap.min.css set `[hidden] { display: none !important; }` so we also need the `!important` here to be able to override the default hidden behavior on the sphinx rendered scikit-learn.org. See: https://github.com/scikit-learn/scikit-learn/issues/21755 */display: inline-block !important;position: relative;}#sk-container-id-1 div.sk-text-repr-fallback {display: none;}</style><div id=\"sk-container-id-1\" class=\"sk-top-container\"><div class=\"sk-text-repr-fallback\"><pre>KNeighborsClassifier()</pre><b>In a Jupyter environment, please rerun this cell to show the HTML representation or trust the notebook. <br />On GitHub, the HTML representation is unable to render, please try loading this page with nbviewer.org.</b></div><div class=\"sk-container\" hidden><div class=\"sk-item\"><div class=\"sk-estimator sk-toggleable\"><input class=\"sk-toggleable__control sk-hidden--visually\" id=\"sk-estimator-id-1\" type=\"checkbox\" checked><label for=\"sk-estimator-id-1\" class=\"sk-toggleable__label sk-toggleable__label-arrow\">KNeighborsClassifier</label><div class=\"sk-toggleable__content\"><pre>KNeighborsClassifier()</pre></div></div></div></div></div>"
      ],
      "text/plain": [
       "KNeighborsClassifier()"
      ]
     },
     "execution_count": 14,
     "metadata": {},
     "output_type": "execute_result"
    }
   ],
   "source": [
    "# Initialize the your model\n",
    "\n",
    "from sklearn.ensemble import RandomForestClassifier\n",
    "from sklearn.neighbors import KNeighborsClassifier  # Import KNeighborsClassifier\n",
    "\n",
    "model = KNeighborsClassifier(n_neighbors=5)  # You can adjust n_neighbors \n",
    "#model =---------------------\n",
    "\n",
    "# Train the model on the training data\n",
    "model.fit(X_train, y_train)\n",
    "\n"
   ]
  },
  {
   "cell_type": "code",
   "execution_count": 15,
   "metadata": {
    "colab": {
     "base_uri": "https://localhost:8080/"
    },
    "id": "LdFfy0yviVby",
    "outputId": "586f15fe-fe9f-4c2b-a788-0a1fc9a1447d"
   },
   "outputs": [
    {
     "name": "stderr",
     "output_type": "stream",
     "text": [
      "C:\\Users\\Elnour Tech\\AppData\\Local\\Programs\\Python\\Python312\\Lib\\site-packages\\joblib\\externals\\loky\\backend\\context.py:136: UserWarning: Could not find the number of physical cores for the following reason:\n",
      "[WinError 2] The system cannot find the file specified\n",
      "Returning the number of logical cores instead. You can silence this warning by setting LOKY_MAX_CPU_COUNT to the number of cores you want to use.\n",
      "  warnings.warn(\n",
      "  File \"C:\\Users\\Elnour Tech\\AppData\\Local\\Programs\\Python\\Python312\\Lib\\site-packages\\joblib\\externals\\loky\\backend\\context.py\", line 257, in _count_physical_cores\n",
      "    cpu_info = subprocess.run(\n",
      "               ^^^^^^^^^^^^^^^\n",
      "  File \"C:\\Users\\Elnour Tech\\AppData\\Local\\Programs\\Python\\Python312\\Lib\\subprocess.py\", line 548, in run\n",
      "    with Popen(*popenargs, **kwargs) as process:\n",
      "         ^^^^^^^^^^^^^^^^^^^^^^^^^^^\n",
      "  File \"C:\\Users\\Elnour Tech\\AppData\\Local\\Programs\\Python\\Python312\\Lib\\subprocess.py\", line 1026, in __init__\n",
      "    self._execute_child(args, executable, preexec_fn, close_fds,\n",
      "  File \"C:\\Users\\Elnour Tech\\AppData\\Local\\Programs\\Python\\Python312\\Lib\\subprocess.py\", line 1538, in _execute_child\n",
      "    hp, ht, pid, tid = _winapi.CreateProcess(executable, args,\n",
      "                       ^^^^^^^^^^^^^^^^^^^^^^^^^^^^^^^^^^^^^^^\n"
     ]
    },
    {
     "name": "stdout",
     "output_type": "stream",
     "text": [
      "Mean Squared Error : 0.01971\n",
      "Accuracy Score : 98.03 %\n"
     ]
    }
   ],
   "source": [
    "# Make predictions\n",
    "pred = model.predict(X_test)\n",
    "\n",
    "# Calculate Mean Squared Error and Accuracy Score\n",
    "mse = mean_squared_error(y_test, pred) # Calculate MSE\n",
    "acc = accuracy_score(y_test, pred)\n",
    "\n",
    "print('Mean Squared Error : {0:.5f}'.format(mse))\n",
    "print('Accuracy Score : {0:.2f} %'.format(acc * 100))"
   ]
  },
  {
   "cell_type": "code",
   "execution_count": 16,
   "metadata": {
    "colab": {
     "base_uri": "https://localhost:8080/",
     "height": 639
    },
    "id": "qh02GcEMRgx0",
    "outputId": "21b70443-92ab-4380-fad6-f401cbe88b64"
   },
   "outputs": [
    {
     "name": "stdout",
     "output_type": "stream",
     "text": [
      "              precision    recall  f1-score   support\n",
      "\n",
      "     malware       0.94      0.96      0.95       226\n",
      "   good ware       0.99      0.99      0.99       890\n",
      "\n",
      "    accuracy                           0.98      1116\n",
      "   macro avg       0.97      0.97      0.97      1116\n",
      "weighted avg       0.98      0.98      0.98      1116\n",
      "\n"
     ]
    },
    {
     "data": {
      "text/plain": [
       "<sklearn.metrics._plot.confusion_matrix.ConfusionMatrixDisplay at 0x140cd924e60>"
      ]
     },
     "execution_count": 16,
     "metadata": {},
     "output_type": "execute_result"
    },
    {
     "data": {
      "image/png": "[encoded data removed]",
      "text/plain": [
       "<Figure size 500x500 with 1 Axes>"
      ]
     },
     "metadata": {},
     "output_type": "display_data"
    }
   ],
   "source": [
    "# classification report\n",
    "\n",
    "clf_report = classification_report(pred, y_test, target_names = list(classes.values()))\n",
    "print(clf_report)\n",
    "# Generate confusion matrix and plot it\n",
    "cm = confusion_matrix(y_test, pred)\n",
    "cmd = ConfusionMatrixDisplay(cm, display_labels=list(classes.values()))\n",
    "\n",
    "fig, ax = plt.subplots(figsize=(5, 5))\n",
    "cmd.plot(ax=ax, cmap='BuPu', colorbar=False)"
   ]
  },
  {
   "cell_type": "code",
   "execution_count": 17,
   "metadata": {
    "id": "R9Q6bkBORiOY"
   },
   "outputs": [],
   "source": [
    "# Define GA hyperparameters\n",
    "size = 100  # Population size\n",
    "n_feat = X_train.shape[1]  # Number of features\n",
    "n_parents = 50  # Number of parents to select\n",
    "mutation_rate = 0.1  # Mutation rate\n",
    "n_gen = 100  # Number of generations"
   ]
  },
  {
   "cell_type": "code",
   "execution_count": 18,
   "metadata": {
    "id": "UBIxhn_CRoqw"
   },
   "outputs": [],
   "source": [
    "# Function for initialization of population in GA\n",
    "def initialization_of_population(size, n_feat):\n",
    "    population = []\n",
    "    for i in range(size):\n",
    "        chromosome = np.ones(n_feat, dtype=bool)\n",
    "        chromosome[:int(0.3 * n_feat)] = False\n",
    "        np.random.shuffle(chromosome)\n",
    "        population.append(chromosome)\n",
    "    return population"
   ]
  },
  {
   "cell_type": "code",
   "execution_count": 19,
   "metadata": {
    "id": "ANIeqojbrvhk"
   },
   "outputs": [],
   "source": [
    "def fitness_score(population):\n",
    "    scores = []\n",
    "    for chromosome in population:\n",
    "        model.fit(X_train[:, chromosome], y_train)\n",
    "        predictions = model.predict(X_test[:, chromosome])\n",
    "        scores.append(accuracy_score(y_test, predictions))\n",
    "    scores, population = np.array(scores), np.array(population)\n",
    "    inds = np.argsort(scores)\n",
    "    return list(scores[inds][::-1]), list(population[inds, :][::-1])"
   ]
  },
  {
   "cell_type": "code",
   "execution_count": 20,
   "metadata": {
    "id": "x1FHOXhOXk7Z"
   },
   "outputs": [],
   "source": [
    "# Function for selection in GA\n",
    "def selection(pop_after_fit, n_parents):\n",
    "    population_nextgen = []\n",
    "    for i in range(n_parents):\n",
    "        population_nextgen.append(pop_after_fit[i])\n",
    "    return population_nextgen"
   ]
  },
  {
   "cell_type": "code",
   "execution_count": 21,
   "metadata": {
    "id": "VCwHJkibXyAC"
   },
   "outputs": [],
   "source": [
    "# Function for crossover in GA\n",
    "def crossover(pop_after_sel):\n",
    "    pop_nextgen = pop_after_sel\n",
    "    for i in range(0, len(pop_after_sel), 2):\n",
    "        new_par = []\n",
    "        child_1, child_2 = pop_nextgen[i], pop_nextgen[i + 1]\n",
    "        new_par = np.concatenate((child_1[:len(child_1) // 2], child_2[len(child_1) // 2:]))\n",
    "        pop_nextgen.append(new_par)\n",
    "    return pop_nextgen"
   ]
  },
  {
   "cell_type": "code",
   "execution_count": 22,
   "metadata": {
    "id": "Ko56tuFpX8Yx"
   },
   "outputs": [],
   "source": [
    "# Function for mutation in GA\n",
    "def mutation(pop_after_cross, mutation_rate, n_feat):\n",
    "    mutation_range = int(mutation_rate * n_feat)\n",
    "    pop_next_gen = []\n",
    "    for n in range(0, len(pop_after_cross)):\n",
    "        chromo = pop_after_cross[n]\n",
    "        rand_posi = []\n",
    "        for i in range(0, mutation_range):\n",
    "            pos = np.random.randint(0, n_feat - 1)\n",
    "            rand_posi.append(pos)\n",
    "        for j in rand_posi:\n",
    "            chromo[j] = not chromo[j]\n",
    "        pop_next_gen.append(chromo)\n",
    "    return pop_next_gen"
   ]
  },
  {
   "cell_type": "code",
   "execution_count": 23,
   "metadata": {
    "id": "flEZvcpcX9qB"
   },
   "outputs": [],
   "source": [
    "# Function for GA generations\n",
    "def generations(size, n_feat, n_parents, mutation_rate, n_gen, X_train, X_test, y_train, y_test):\n",
    "    best_chromo = []\n",
    "    best_score = []\n",
    "    population_nextgen = initialization_of_population(size, n_feat)\n",
    "    for i in range(n_gen):\n",
    "        scores, pop_after_fit = fitness_score(population_nextgen)\n",
    "        print('Best score in generation', i + 1, ':', scores[:1])  # Print best score in each generation\n",
    "        pop_after_sel = selection(pop_after_fit, n_parents)\n",
    "        pop_after_cross = crossover(pop_after_sel)\n",
    "        population_nextgen = mutation(pop_after_cross, mutation_rate, n_feat)\n",
    "        best_chromo.append(pop_after_fit[0])\n",
    "        best_score.append(scores[0])\n",
    "    return best_chromo, best_score"
   ]
  },
  {
   "cell_type": "code",
   "execution_count": 24,
   "metadata": {
    "colab": {
     "base_uri": "https://localhost:8080/"
    },
    "id": "jplE48z4YA8L",
    "outputId": "83c419a5-78f9-4c67-addb-0e49bb6448f5"
   },
   "outputs": [
    {
     "name": "stdout",
     "output_type": "stream",
     "text": [
      "Best score in generation 1 : [0.9865591397849462]\n",
      "Best score in generation 2 : [0.985663082437276]\n",
      "Best score in generation 3 : [0.985663082437276]\n",
      "Best score in generation 4 : [0.9847670250896058]\n",
      "Best score in generation 5 : [0.9874551971326165]\n",
      "Best score in generation 6 : [0.9874551971326165]\n",
      "Best score in generation 7 : [0.9865591397849462]\n",
      "Best score in generation 8 : [0.9874551971326165]\n",
      "Best score in generation 9 : [0.985663082437276]\n",
      "Best score in generation 10 : [0.985663082437276]\n",
      "Best score in generation 11 : [0.985663082437276]\n",
      "Best score in generation 12 : [0.985663082437276]\n",
      "Best score in generation 13 : [0.985663082437276]\n",
      "Best score in generation 14 : [0.9874551971326165]\n",
      "Best score in generation 15 : [0.9874551971326165]\n",
      "Best score in generation 16 : [0.985663082437276]\n",
      "Best score in generation 17 : [0.9874551971326165]\n",
      "Best score in generation 18 : [0.9883512544802867]\n",
      "Best score in generation 19 : [0.985663082437276]\n",
      "Best score in generation 20 : [0.9847670250896058]\n",
      "Best score in generation 21 : [0.9874551971326165]\n",
      "Best score in generation 22 : [0.985663082437276]\n",
      "Best score in generation 23 : [0.9874551971326165]\n",
      "Best score in generation 24 : [0.985663082437276]\n",
      "Best score in generation 25 : [0.985663082437276]\n",
      "Best score in generation 26 : [0.9847670250896058]\n",
      "Best score in generation 27 : [0.985663082437276]\n",
      "Best score in generation 28 : [0.9865591397849462]\n",
      "Best score in generation 29 : [0.9865591397849462]\n",
      "Best score in generation 30 : [0.9865591397849462]\n",
      "Best score in generation 31 : [0.9847670250896058]\n",
      "Best score in generation 32 : [0.9865591397849462]\n",
      "Best score in generation 33 : [0.9865591397849462]\n",
      "Best score in generation 34 : [0.9865591397849462]\n",
      "Best score in generation 35 : [0.9865591397849462]\n",
      "Best score in generation 36 : [0.9883512544802867]\n",
      "Best score in generation 37 : [0.985663082437276]\n",
      "Best score in generation 38 : [0.9874551971326165]\n",
      "Best score in generation 39 : [0.9883512544802867]\n",
      "Best score in generation 40 : [0.9865591397849462]\n",
      "Best score in generation 41 : [0.9865591397849462]\n",
      "Best score in generation 42 : [0.9883512544802867]\n",
      "Best score in generation 43 : [0.9874551971326165]\n",
      "Best score in generation 44 : [0.9865591397849462]\n",
      "Best score in generation 45 : [0.9838709677419355]\n",
      "Best score in generation 46 : [0.9838709677419355]\n",
      "Best score in generation 47 : [0.9874551971326165]\n",
      "Best score in generation 48 : [0.9865591397849462]\n",
      "Best score in generation 49 : [0.985663082437276]\n",
      "Best score in generation 50 : [0.9874551971326165]\n",
      "Best score in generation 51 : [0.9874551971326165]\n",
      "Best score in generation 52 : [0.9874551971326165]\n",
      "Best score in generation 53 : [0.9865591397849462]\n",
      "Best score in generation 54 : [0.9865591397849462]\n",
      "Best score in generation 55 : [0.985663082437276]\n",
      "Best score in generation 56 : [0.9901433691756273]\n",
      "Best score in generation 57 : [0.9874551971326165]\n",
      "Best score in generation 58 : [0.9874551971326165]\n",
      "Best score in generation 59 : [0.9865591397849462]\n",
      "Best score in generation 60 : [0.9874551971326165]\n",
      "Best score in generation 61 : [0.9874551971326165]\n",
      "Best score in generation 62 : [0.9847670250896058]\n",
      "Best score in generation 63 : [0.9865591397849462]\n",
      "Best score in generation 64 : [0.9883512544802867]\n",
      "Best score in generation 65 : [0.9865591397849462]\n",
      "Best score in generation 66 : [0.9865591397849462]\n",
      "Best score in generation 67 : [0.9847670250896058]\n",
      "Best score in generation 68 : [0.9874551971326165]\n",
      "Best score in generation 69 : [0.985663082437276]\n",
      "Best score in generation 70 : [0.9883512544802867]\n",
      "Best score in generation 71 : [0.9847670250896058]\n",
      "Best score in generation 72 : [0.9847670250896058]\n",
      "Best score in generation 73 : [0.9847670250896058]\n",
      "Best score in generation 74 : [0.9865591397849462]\n",
      "Best score in generation 75 : [0.9847670250896058]\n",
      "Best score in generation 76 : [0.9847670250896058]\n",
      "Best score in generation 77 : [0.9847670250896058]\n",
      "Best score in generation 78 : [0.9865591397849462]\n",
      "Best score in generation 79 : [0.989247311827957]\n",
      "Best score in generation 80 : [0.9847670250896058]\n",
      "Best score in generation 81 : [0.9838709677419355]\n",
      "Best score in generation 82 : [0.9847670250896058]\n",
      "Best score in generation 83 : [0.9847670250896058]\n",
      "Best score in generation 84 : [0.9865591397849462]\n",
      "Best score in generation 85 : [0.989247311827957]\n",
      "Best score in generation 86 : [0.9865591397849462]\n",
      "Best score in generation 87 : [0.985663082437276]\n",
      "Best score in generation 88 : [0.9865591397849462]\n",
      "Best score in generation 89 : [0.9865591397849462]\n",
      "Best score in generation 90 : [0.985663082437276]\n",
      "Best score in generation 91 : [0.9874551971326165]\n",
      "Best score in generation 92 : [0.985663082437276]\n",
      "Best score in generation 93 : [0.9865591397849462]\n",
      "Best score in generation 94 : [0.9865591397849462]\n",
      "Best score in generation 95 : [0.985663082437276]\n",
      "Best score in generation 96 : [0.9847670250896058]\n",
      "Best score in generation 97 : [0.9874551971326165]\n",
      "Best score in generation 98 : [0.985663082437276]\n",
      "Best score in generation 99 : [0.985663082437276]\n",
      "Best score in generation 100 : [0.989247311827957]\n"
     ]
    }
   ],
   "source": [
    "# Run GA after hyperparameter optimization\n",
    "best_chromo, best_score = generations(size, n_feat, n_parents, mutation_rate, n_gen,\n",
    "                                                               X_train, X_test, y_train, y_test)"
   ]
  },
  {
   "cell_type": "code",
   "execution_count": 25,
   "metadata": {
    "colab": {
     "base_uri": "https://localhost:8080/"
    },
    "id": "PVwMI-00YDG5",
    "outputId": "e3d45fc9-1bc7-440f-e208-eeb5f6b23427"
   },
   "outputs": [
    {
     "name": "stdout",
     "output_type": "stream",
     "text": [
      "Best features selected by GA:\n",
      "Index(['ACCESS_ALL_DOWNLOADS', 'ACCESS_CACHE_FILESYSTEM',\n",
      "       'ACCESS_CHECKIN_PROPERTIES', 'ACCESS_FINE_LOCATION', 'ACCESS_MTK_MMHW',\n",
      "       'ACCESS_PROVIDER', 'activityCalled', 'ADD_VOICEMAIL', 'ANT_ADMIN',\n",
      "       'AUTORUN_MANAGER_LICENSE_MANAGER',\n",
      "       ...\n",
      "       'Landroid/telephony/SmsManager;->sendTextMessage',\n",
      "       'Landroid/content/pm/PackageManager;->getInstalledApplications',\n",
      "       'Landroid/content/pm/PackageManager;->getInstalledPackages',\n",
      "       'Landroid/telephony/TelephonyManager;->getLine1Number',\n",
      "       'Landroid/telephony/TelephonyManager;->getNetworkOperator',\n",
      "       'Landroid/telephony/TelephonyManager;->getNetworkOperatorName',\n",
      "       'Landroid/telephony/TelephonyManager;->getSimOperator',\n",
      "       'Landroid/telephony/TelephonyManager;->getSimOperatorName',\n",
      "       'Landroid/telephony/TelephonyManager;->getSimSerialNumber',\n",
      "       'Lorg/apache/http/impl/client/DefaultHttpClient;->execute'],\n",
      "      dtype='object', length=122)\n"
     ]
    }
   ],
   "source": [
    "# Get the best chromosome\n",
    "best_chromosome = best_chromo[-1]\n",
    "\n",
    "# Filter features based on the best chromosome\n",
    "selected_features = X.columns[best_chromosome]\n",
    "\n",
    "print(\"Best features selected by GA:\")\n",
    "print(selected_features)\n"
   ]
  },
  {
   "cell_type": "code",
   "execution_count": 27,
   "metadata": {
    "colab": {
     "base_uri": "https://localhost:8080/",
     "height": 80
    },
    "id": "JTcHUI6sk8fC",
    "outputId": "7d469bbb-af94-45b0-f808-75c36ffe9625"
   },
   "outputs": [
    {
     "data": {
      "text/html": [
       "<style>#sk-container-id-2 {color: black;}#sk-container-id-2 pre{padding: 0;}#sk-container-id-2 div.sk-toggleable {background-color: white;}#sk-container-id-2 label.sk-toggleable__label {cursor: pointer;display: block;width: 100%;margin-bottom: 0;padding: 0.3em;box-sizing: border-box;text-align: center;}#sk-container-id-2 label.sk-toggleable__label-arrow:before {content: \"▸\";float: left;margin-right: 0.25em;color: #696969;}#sk-container-id-2 label.sk-toggleable__label-arrow:hover:before {color: black;}#sk-container-id-2 div.sk-estimator:hover label.sk-toggleable__label-arrow:before {color: black;}#sk-container-id-2 div.sk-toggleable__content {max-height: 0;max-width: 0;overflow: hidden;text-align: left;background-color: #f0f8ff;}#sk-container-id-2 div.sk-toggleable__content pre {margin: 0.2em;color: black;border-radius: 0.25em;background-color: #f0f8ff;}#sk-container-id-2 input.sk-toggleable__control:checked~div.sk-toggleable__content {max-height: 200px;max-width: 100%;overflow: auto;}#sk-container-id-2 input.sk-toggleable__control:checked~label.sk-toggleable__label-arrow:before {content: \"▾\";}#sk-container-id-2 div.sk-estimator input.sk-toggleable__control:checked~label.sk-toggleable__label {background-color: #d4ebff;}#sk-container-id-2 div.sk-label input.sk-toggleable__control:checked~label.sk-toggleable__label {background-color: #d4ebff;}#sk-container-id-2 input.sk-hidden--visually {border: 0;clip: rect(1px 1px 1px 1px);clip: rect(1px, 1px, 1px, 1px);height: 1px;margin: -1px;overflow: hidden;padding: 0;position: absolute;width: 1px;}#sk-container-id-2 div.sk-estimator {font-family: monospace;background-color: #f0f8ff;border: 1px dotted black;border-radius: 0.25em;box-sizing: border-box;margin-bottom: 0.5em;}#sk-container-id-2 div.sk-estimator:hover {background-color: #d4ebff;}#sk-container-id-2 div.sk-parallel-item::after {content: \"\";width: 100%;border-bottom: 1px solid gray;flex-grow: 1;}#sk-container-id-2 div.sk-label:hover label.sk-toggleable__label {background-color: #d4ebff;}#sk-container-id-2 div.sk-serial::before {content: \"\";position: absolute;border-left: 1px solid gray;box-sizing: border-box;top: 0;bottom: 0;left: 50%;z-index: 0;}#sk-container-id-2 div.sk-serial {display: flex;flex-direction: column;align-items: center;background-color: white;padding-right: 0.2em;padding-left: 0.2em;position: relative;}#sk-container-id-2 div.sk-item {position: relative;z-index: 1;}#sk-container-id-2 div.sk-parallel {display: flex;align-items: stretch;justify-content: center;background-color: white;position: relative;}#sk-container-id-2 div.sk-item::before, #sk-container-id-2 div.sk-parallel-item::before {content: \"\";position: absolute;border-left: 1px solid gray;box-sizing: border-box;top: 0;bottom: 0;left: 50%;z-index: -1;}#sk-container-id-2 div.sk-parallel-item {display: flex;flex-direction: column;z-index: 1;position: relative;background-color: white;}#sk-container-id-2 div.sk-parallel-item:first-child::after {align-self: flex-end;width: 50%;}#sk-container-id-2 div.sk-parallel-item:last-child::after {align-self: flex-start;width: 50%;}#sk-container-id-2 div.sk-parallel-item:only-child::after {width: 0;}#sk-container-id-2 div.sk-dashed-wrapped {border: 1px dashed gray;margin: 0 0.4em 0.5em 0.4em;box-sizing: border-box;padding-bottom: 0.4em;background-color: white;}#sk-container-id-2 div.sk-label label {font-family: monospace;font-weight: bold;display: inline-block;line-height: 1.2em;}#sk-container-id-2 div.sk-label-container {text-align: center;}#sk-container-id-2 div.sk-container {/* jupyter's `normalize.less` sets `[hidden] { display: none; }` but bootstrap.min.css set `[hidden] { display: none !important; }` so we also need the `!important` here to be able to override the default hidden behavior on the sphinx rendered scikit-learn.org. See: https://github.com/scikit-learn/scikit-learn/issues/21755 */display: inline-block !important;position: relative;}#sk-container-id-2 div.sk-text-repr-fallback {display: none;}</style><div id=\"sk-container-id-2\" class=\"sk-top-container\"><div class=\"sk-text-repr-fallback\"><pre>KNeighborsClassifier()</pre><b>In a Jupyter environment, please rerun this cell to show the HTML representation or trust the notebook. <br />On GitHub, the HTML representation is unable to render, please try loading this page with nbviewer.org.</b></div><div class=\"sk-container\" hidden><div class=\"sk-item\"><div class=\"sk-estimator sk-toggleable\"><input class=\"sk-toggleable__control sk-hidden--visually\" id=\"sk-estimator-id-2\" type=\"checkbox\" checked><label for=\"sk-estimator-id-2\" class=\"sk-toggleable__label sk-toggleable__label-arrow\">KNeighborsClassifier</label><div class=\"sk-toggleable__content\"><pre>KNeighborsClassifier()</pre></div></div></div></div></div>"
      ],
      "text/plain": [
       "KNeighborsClassifier()"
      ]
     },
     "execution_count": 27,
     "metadata": {},
     "output_type": "execute_result"
    }
   ],
   "source": [
    "# Select only the best features for training\n",
    "X_train_ga = X_train[:, best_chromosome]\n",
    "X_test_ga = X_test[:, best_chromosome]\n",
    "\n",
    "# Initialize and train SVM model using the best features selected by GA\n",
    "model_ga = KNeighborsClassifier(n_neighbors=5)  # You can adjust n_neighbors \n",
    "model_ga.fit(X_train_ga, y_train)\n"
   ]
  },
  {
   "cell_type": "code",
   "execution_count": 28,
   "metadata": {
    "colab": {
     "base_uri": "https://localhost:8080/"
    },
    "id": "uJbi4iiSYFSB",
    "outputId": "6b4cde14-b918-4c33-ea3f-d0282e006c26"
   },
   "outputs": [
    {
     "name": "stdout",
     "output_type": "stream",
     "text": [
      "Accuracy Score using selected features by GA: 98.39 %\n",
      "Classification Report using selected features by GA:\n",
      "              precision    recall  f1-score   support\n",
      "\n",
      "     malware       0.98      0.94      0.96       230\n",
      "   good ware       0.99      0.99      0.99       886\n",
      "\n",
      "    accuracy                           0.98      1116\n",
      "   macro avg       0.98      0.97      0.98      1116\n",
      "weighted avg       0.98      0.98      0.98      1116\n",
      "\n"
     ]
    }
   ],
   "source": [
    "\n",
    "# Make predictions\n",
    "pred_ga = model_ga.predict(X_test_ga)\n",
    "\n",
    "# Evaluate the model\n",
    "acc_ga = accuracy_score(y_test, pred_ga)\n",
    "print('Accuracy Score using selected features by GA: {0:.2f} %'.format(acc_ga * 100))\n",
    "\n",
    "# Classification report\n",
    "clf_report_ga = classification_report(y_test, pred_ga, target_names=list(classes.values()))\n",
    "print(\"Classification Report using selected features by GA:\")\n",
    "print(clf_report_ga)"
   ]
  },
  {
   "cell_type": "code",
   "execution_count": 29,
   "metadata": {
    "colab": {
     "base_uri": "https://localhost:8080/",
     "height": 487
    },
    "id": "FDvBahX0YOoZ",
    "outputId": "0ec29c7a-99de-4a1c-a8db-0d74dd0202f4"
   },
   "outputs": [
    {
     "data": {
      "image/png": "[encoded data removed]",
      "text/plain": [
       "<Figure size 500x500 with 1 Axes>"
      ]
     },
     "metadata": {},
     "output_type": "display_data"
    }
   ],
   "source": [
    "# Generate confusion matrix and plot it\n",
    "cm_ga = confusion_matrix(y_test, pred_ga)\n",
    "cmd_ga = ConfusionMatrixDisplay(cm_ga, display_labels=list(classes.values()))\n",
    "\n",
    "fig, ax = plt.subplots(figsize=(5, 5))\n",
    "cmd_ga.plot(ax=ax, cmap='BuPu', colorbar=False)\n",
    "plt.title(\"Confusion Matrix using selected features by GA\")\n",
    "plt.show()"
   ]
  },
  {
   "cell_type": "code",
   "execution_count": 30,
   "metadata": {
    "colab": {
     "base_uri": "https://localhost:8080/"
    },
    "id": "ZdDgd_FMYKfZ",
    "outputId": "675195f6-343a-4a9c-c8f3-acb6019e56e3"
   },
   "outputs": [
    {
     "name": "stdout",
     "output_type": "stream",
     "text": [
      "Iteration 1/50, Best Accuracy: 0.9848\n",
      "Iteration 2/50, Best Accuracy: 0.9857\n",
      "Iteration 3/50, Best Accuracy: 0.9857\n",
      "Iteration 4/50, Best Accuracy: 0.9857\n",
      "Iteration 5/50, Best Accuracy: 0.9857\n",
      "Iteration 6/50, Best Accuracy: 0.9866\n",
      "Iteration 7/50, Best Accuracy: 0.9866\n",
      "Iteration 8/50, Best Accuracy: 0.9866\n",
      "Iteration 9/50, Best Accuracy: 0.9866\n",
      "Iteration 10/50, Best Accuracy: 0.9875\n",
      "Iteration 11/50, Best Accuracy: 0.9875\n",
      "Iteration 12/50, Best Accuracy: 0.9875\n",
      "Iteration 13/50, Best Accuracy: 0.9875\n",
      "Iteration 14/50, Best Accuracy: 0.9875\n",
      "Iteration 15/50, Best Accuracy: 0.9875\n",
      "Iteration 16/50, Best Accuracy: 0.9875\n",
      "Iteration 17/50, Best Accuracy: 0.9875\n",
      "Iteration 18/50, Best Accuracy: 0.9875\n",
      "Iteration 19/50, Best Accuracy: 0.9875\n",
      "Iteration 20/50, Best Accuracy: 0.9875\n",
      "Iteration 21/50, Best Accuracy: 0.9875\n",
      "Iteration 22/50, Best Accuracy: 0.9875\n",
      "Iteration 23/50, Best Accuracy: 0.9875\n",
      "Iteration 24/50, Best Accuracy: 0.9875\n",
      "Iteration 25/50, Best Accuracy: 0.9875\n",
      "Iteration 26/50, Best Accuracy: 0.9875\n",
      "Iteration 27/50, Best Accuracy: 0.9875\n",
      "Iteration 28/50, Best Accuracy: 0.9875\n",
      "Iteration 29/50, Best Accuracy: 0.9875\n",
      "Iteration 30/50, Best Accuracy: 0.9875\n",
      "Iteration 31/50, Best Accuracy: 0.9875\n",
      "Iteration 32/50, Best Accuracy: 0.9875\n",
      "Iteration 33/50, Best Accuracy: 0.9875\n",
      "Iteration 34/50, Best Accuracy: 0.9884\n",
      "Iteration 35/50, Best Accuracy: 0.9884\n",
      "Iteration 36/50, Best Accuracy: 0.9884\n",
      "Iteration 37/50, Best Accuracy: 0.9884\n",
      "Iteration 38/50, Best Accuracy: 0.9884\n",
      "Iteration 39/50, Best Accuracy: 0.9884\n",
      "Iteration 40/50, Best Accuracy: 0.9884\n",
      "Iteration 41/50, Best Accuracy: 0.9884\n",
      "Iteration 42/50, Best Accuracy: 0.9884\n",
      "Iteration 43/50, Best Accuracy: 0.9884\n",
      "Iteration 44/50, Best Accuracy: 0.9884\n",
      "Iteration 45/50, Best Accuracy: 0.9884\n",
      "Iteration 46/50, Best Accuracy: 0.9884\n",
      "Iteration 47/50, Best Accuracy: 0.9884\n",
      "Iteration 48/50, Best Accuracy: 0.9884\n",
      "Iteration 49/50, Best Accuracy: 0.9884\n",
      "Iteration 50/50, Best Accuracy: 0.9884\n",
      "Best features selected by PSO:\n",
      "Index(['ACCESS_ALL_DOWNLOADS', 'ACCESS_CHECKIN_PROPERTIES',\n",
      "       'ACCESS_FINE_LOCATION', 'ACCESS_LOCATION_EXTRA_COMMANDS',\n",
      "       'ACCESS_MTK_MMHW', 'ACCESS_NETWORK_STATE', 'ACCESS_PROVIDER',\n",
      "       'ACCESS_SERVICE', 'ACCESS_SHARED_DATA', 'ACCESS_SUPERUSER',\n",
      "       ...\n",
      "       'Landroid/telephony/TelephonyManager;->getDeviceId',\n",
      "       'Landroid/content/pm/PackageManager;->getInstalledApplications',\n",
      "       'Landroid/content/pm/PackageManager;->getInstalledPackages',\n",
      "       'Landroid/telephony/TelephonyManager;->getLine1Number',\n",
      "       'Landroid/telephony/TelephonyManager;->getNetworkOperator',\n",
      "       'Landroid/telephony/TelephonyManager;->getNetworkOperatorName',\n",
      "       'Landroid/telephony/TelephonyManager;->getNetworkCountryIso',\n",
      "       'Landroid/telephony/TelephonyManager;->getSimOperator',\n",
      "       'Landroid/telephony/TelephonyManager;->getSimOperatorName',\n",
      "       'Lorg/apache/http/impl/client/DefaultHttpClient;->execute'],\n",
      "      dtype='object', length=187)\n",
      "Accuracy using PSO-selected features: 98.84%\n"
     ]
    }
   ],
   "source": [
    "import numpy as np\n",
    "from sklearn.metrics import accuracy_score\n",
    "\n",
    "# PSO parameters\n",
    "n_particles = 30       # Number of particles in the swarm\n",
    "n_iterations = 50      # Number of iterations (generations)\n",
    "n_features = X_train.shape[1]  # Number of features\n",
    "\n",
    "w = 0.5                # Inertia weight\n",
    "c1 = 1.5               # Cognitive component (personal best influence)\n",
    "c2 = 1.5               # Social component (global best influence)\n",
    "\n",
    "# Set random seed for reproducibility\n",
    "np.random.seed(SEED)\n",
    "\n",
    "# Initialize particles and velocities\n",
    "particles = np.random.rand(n_particles, n_features)      # Positions (values between 0 and 1)\n",
    "velocities = np.random.rand(n_particles, n_features)     # Velocities\n",
    "\n",
    "# Initialize personal best positions and scores\n",
    "personal_best_positions = particles.copy()\n",
    "personal_best_scores = np.zeros(n_particles)\n",
    "\n",
    "# Evaluate initial particles\n",
    "for i in range(n_particles):\n",
    "    selected = particles[i] > 0.5  # Binary mask for selected features\n",
    "    if np.sum(selected) == 0:      # If no feature selected\n",
    "        personal_best_scores[i] = 0\n",
    "    else:\n",
    "\n",
    "        model.fit(X_train[:, selected], y_train)\n",
    "        preds = model.predict(X_test[:, selected])\n",
    "        personal_best_scores[i] = accuracy_score(y_test, preds)\n",
    "\n",
    "# Find the global best particle\n",
    "global_best_idx = np.argmax(personal_best_scores)\n",
    "global_best_position = personal_best_positions[global_best_idx].copy()\n",
    "\n",
    "# PSO main loop\n",
    "for iteration in range(n_iterations):\n",
    "    for i in range(n_particles):\n",
    "        # Generate random numbers for velocity update\n",
    "        r1 = np.random.rand(n_features)\n",
    "        r2 = np.random.rand(n_features)\n",
    "\n",
    "        # Update velocity based on personal and global bests\n",
    "        velocities[i] = (\n",
    "            w * velocities[i]\n",
    "            + c1 * r1 * (personal_best_positions[i] - particles[i])\n",
    "            + c2 * r2 * (global_best_position - particles[i])\n",
    "        )\n",
    "\n",
    "        # Update particle position and clip to [0, 1]\n",
    "        particles[i] += velocities[i]\n",
    "        particles[i] = np.clip(particles[i], 0, 1)\n",
    "\n",
    "        # Evaluate new position\n",
    "        selected = particles[i] > 0.5\n",
    "        if np.sum(selected) == 0:\n",
    "            score = 0\n",
    "        else:\n",
    "            model = KNeighborsClassifier(n_neighbors=5)\n",
    "            model.fit(X_train[:, selected], y_train)\n",
    "            preds = model.predict(X_test[:, selected])\n",
    "            score = accuracy_score(y_test, preds)\n",
    "\n",
    "        # Update personal best if current score is better\n",
    "        if score > personal_best_scores[i]:\n",
    "            personal_best_scores[i] = score\n",
    "            personal_best_positions[i] = particles[i].copy()\n",
    "\n",
    "    # Update global best\n",
    "    global_best_idx = np.argmax(personal_best_scores)\n",
    "    global_best_position = personal_best_positions[global_best_idx].copy()\n",
    "\n",
    "    print(f\"Iteration {iteration+1}/{n_iterations}, Best Accuracy: {personal_best_scores[global_best_idx]:.4f}\")\n",
    "\n",
    "# Get the best feature subset from the final global best particle\n",
    "best_features_mask = global_best_position > 0.5\n",
    "selected_features = X.columns[best_features_mask]\n",
    "print(\"Best features selected by PSO:\")\n",
    "print(selected_features)\n",
    "\n",
    "# Train final model using selected features\n",
    "X_train_pso = X_train[:, best_features_mask]\n",
    "X_test_pso = X_test[:, best_features_mask]\n",
    "\n",
    "final_model = KNeighborsClassifier(n_neighbors=5)\n",
    "final_model.fit(X_train_pso, y_train)\n",
    "pred_pso = final_model.predict(X_test_pso)\n",
    "acc_pso = accuracy_score(y_test, pred_pso)\n",
    "\n",
    "print(\"Accuracy using PSO-selected features: {:.2f}%\".format(acc_pso * 100))\n"
   ]
  },
  {
   "cell_type": "code",
   "execution_count": 31,
   "metadata": {
    "colab": {
     "base_uri": "https://localhost:8080/"
    },
    "id": "2zAiQbgSV8v9",
    "outputId": "69bd79d5-7388-40c4-807d-900a9f334a8c"
   },
   "outputs": [
    {
     "name": "stdout",
     "output_type": "stream",
     "text": [
      "\n",
      "Classification Report after using PSO:\n",
      "              precision    recall  f1-score   support\n",
      "\n",
      "         0.0       0.97      0.97      0.97       230\n",
      "         1.0       0.99      0.99      0.99       886\n",
      "\n",
      "    accuracy                           0.99      1116\n",
      "   macro avg       0.98      0.98      0.98      1116\n",
      "weighted avg       0.99      0.99      0.99      1116\n",
      "\n"
     ]
    }
   ],
   "source": [
    "\n",
    "# Generate classification report\n",
    "print(\"\\nClassification Report after using PSO:\")\n",
    "print(classification_report(y_test, pred_pso))"
   ]
  },
  {
   "cell_type": "code",
   "execution_count": 32,
   "metadata": {
    "colab": {
     "base_uri": "https://localhost:8080/",
     "height": 633
    },
    "id": "vivGfMzAV89J",
    "outputId": "d1f2ac26-9f1b-49da-c82d-198374efbfb3"
   },
   "outputs": [
    {
     "name": "stdout",
     "output_type": "stream",
     "text": [
      "\n",
      "Confusion Matrix:\n",
      "[[223   7]\n",
      " [  6 880]]\n"
     ]
    },
    {
     "data": {
      "image/png": "[encoded data removed]",
      "text/plain": [
       "<Figure size 800x600 with 2 Axes>"
      ]
     },
     "metadata": {},
     "output_type": "display_data"
    }
   ],
   "source": [
    "# Generate confusion matrix\n",
    "cm = confusion_matrix(y_test, pred_pso)\n",
    "print(\"\\nConfusion Matrix:\")\n",
    "print(cm)\n",
    "\n",
    "# Plot confusion matrix (optional, requires matplotlib and seaborn)\n",
    "plt.figure(figsize=(8, 6))\n",
    "sns.heatmap(cm, annot=True, fmt=\"d\", cmap=\"Blues\")\n",
    "plt.title(\"Confusion Matrix\")\n",
    "plt.xlabel(\"Predicted Label\")\n",
    "plt.ylabel(\"True Label\")\n",
    "plt.show()"
   ]
  },
  {
   "cell_type": "code",
   "execution_count": 34,
   "metadata": {
    "colab": {
     "base_uri": "https://localhost:8080/",
     "height": 607
    },
    "id": "bmiAbGfVdsUq",
    "outputId": "06c5b7e9-0931-48cf-9fea-cf03acd408ea"
   },
   "outputs": [
    {
     "data": {
      "image/png": "[encoded data removed]",
      "text/plain": [
       "<Figure size 1000x600 with 1 Axes>"
      ]
     },
     "metadata": {},
     "output_type": "display_data"
    }
   ],
   "source": [
    "import matplotlib.pyplot as plt\n",
    "import numpy as np\n",
    "\n",
    "# Define the metrics\n",
    "labels = ['Precision', 'Recall', 'F1-Score', 'Accuracy']\n",
    "\n",
    "before = [0.97, 0.97, 0.97, 0.98]  # Macro avg + accuracy\n",
    "ga     = [0.98, 0.97, 0.98, 0.98]\n",
    "pso    = [0.98, 0.98, 0.98, 0.99]\n",
    "\n",
    "# Bar width and x locations\n",
    "x = np.arange(len(labels))\n",
    "width = 0.25\n",
    "\n",
    "# Create plot\n",
    "plt.figure(figsize=(10, 6))\n",
    "plt.bar(x - width, before, width, label='Before FS', color='#1f77b4')\n",
    "plt.bar(x, ga, width, label='After GA', color='#ff7f0e')\n",
    "plt.bar(x + width, pso, width, label='After PSO', color='#2ca02c')\n",
    "\n",
    "# Labels and formatting\n",
    "plt.ylabel('Score')\n",
    "plt.ylim(0.90, 1.0)\n",
    "plt.title('Model Performance Before and After Feature Selection')\n",
    "plt.xticks(x, labels)\n",
    "plt.legend()\n",
    "plt.grid(axis='y', linestyle='--', alpha=0.7)\n",
    "plt.tight_layout()\n",
    "plt.show()\n"
   ]
  },
  {
   "cell_type": "code",
   "execution_count": null,
   "metadata": {
    "id": "C2UTLHXwd9ef"
   },
   "outputs": [],
   "source": []
  }
 ],
 "metadata": {
  "colab": {
   "provenance": []
  },
  "kernelspec": {
   "display_name": "Python 3 (ipykernel)",
   "language": "python",
   "name": "python3"
  },
  "language_info": {
   "codemirror_mode": {
    "name": "ipython",
    "version": 3
   },
   "file_extension": ".py",
   "mimetype": "text/x-python",
   "name": "python",
   "nbconvert_exporter": "python",
   "pygments_lexer": "ipython3",
   "version": "3.12.0"
  }
 },
 "nbformat": 4,
 "nbformat_minor": 4
}
